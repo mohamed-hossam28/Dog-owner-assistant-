{
  "cells": [
    {
      "cell_type": "code",
      "execution_count": null,
      "metadata": {
        "colab": {
          "base_uri": "https://localhost:8080/"
        },
        "id": "M1OQRHR3nHVT",
        "outputId": "82418900-84c5-4355-b2fc-3659720c1c2c"
      },
      "outputs": [
        {
          "name": "stdout",
          "output_type": "stream",
          "text": [
            "\u001b[?25l     \u001b[90m━━━━━━━━━━━━━━━━━━━━━━━━━━━━━━━━━━━━━━━━\u001b[0m \u001b[32m0.0/67.3 kB\u001b[0m \u001b[31m?\u001b[0m eta \u001b[36m-:--:--\u001b[0m\r\u001b[2K     \u001b[90m━━━━━━━━━━━━━━━━━━━━━━━━━━━━━━━━━━━━━━━━\u001b[0m \u001b[32m67.3/67.3 kB\u001b[0m \u001b[31m5.3 MB/s\u001b[0m eta \u001b[36m0:00:00\u001b[0m\n",
            "\u001b[?25h  Installing build dependencies ... \u001b[?25l\u001b[?25hdone\n",
            "  Getting requirements to build wheel ... \u001b[?25l\u001b[?25hdone\n",
            "  Preparing metadata (pyproject.toml) ... \u001b[?25l\u001b[?25hdone\n",
            "\u001b[2K   \u001b[90m━━━━━━━━━━━━━━━━━━━━━━━━━━━━━━━━━━━━━━━━\u001b[0m \u001b[32m19.5/19.5 MB\u001b[0m \u001b[31m85.3 MB/s\u001b[0m eta \u001b[36m0:00:00\u001b[0m\n",
            "\u001b[2K   \u001b[90m━━━━━━━━━━━━━━━━━━━━━━━━━━━━━━━━━━━━━━━━\u001b[0m \u001b[32m1.2/1.2 MB\u001b[0m \u001b[31m67.6 MB/s\u001b[0m eta \u001b[36m0:00:00\u001b[0m\n",
            "\u001b[2K   \u001b[90m━━━━━━━━━━━━━━━━━━━━━━━━━━━━━━━━━━━━━━━━\u001b[0m \u001b[32m284.2/284.2 kB\u001b[0m \u001b[31m23.6 MB/s\u001b[0m eta \u001b[36m0:00:00\u001b[0m\n",
            "\u001b[2K   \u001b[90m━━━━━━━━━━━━━━━━━━━━━━━━━━━━━━━━━━━━━━━━\u001b[0m \u001b[32m1.9/1.9 MB\u001b[0m \u001b[31m83.8 MB/s\u001b[0m eta \u001b[36m0:00:00\u001b[0m\n",
            "\u001b[2K   \u001b[90m━━━━━━━━━━━━━━━━━━━━━━━━━━━━━━━━━━━━━━━━\u001b[0m \u001b[32m103.1/103.1 kB\u001b[0m \u001b[31m9.3 MB/s\u001b[0m eta \u001b[36m0:00:00\u001b[0m\n",
            "\u001b[2K   \u001b[90m━━━━━━━━━━━━━━━━━━━━━━━━━━━━━━━━━━━━━━━━\u001b[0m \u001b[32m16.5/16.5 MB\u001b[0m \u001b[31m100.7 MB/s\u001b[0m eta \u001b[36m0:00:00\u001b[0m\n",
            "\u001b[2K   \u001b[90m━━━━━━━━━━━━━━━━━━━━━━━━━━━━━━━━━━━━━━━━\u001b[0m \u001b[32m65.6/65.6 kB\u001b[0m \u001b[31m5.8 MB/s\u001b[0m eta \u001b[36m0:00:00\u001b[0m\n",
            "\u001b[2K   \u001b[90m━━━━━━━━━━━━━━━━━━━━━━━━━━━━━━━━━━━━━━━━\u001b[0m \u001b[32m72.5/72.5 kB\u001b[0m \u001b[31m6.7 MB/s\u001b[0m eta \u001b[36m0:00:00\u001b[0m\n",
            "\u001b[2K   \u001b[90m━━━━━━━━━━━━━━━━━━━━━━━━━━━━━━━━━━━━━━━━\u001b[0m \u001b[32m120.0/120.0 kB\u001b[0m \u001b[31m10.7 MB/s\u001b[0m eta \u001b[36m0:00:00\u001b[0m\n",
            "\u001b[2K   \u001b[90m━━━━━━━━━━━━━━━━━━━━━━━━━━━━━━━━━━━━━━━━\u001b[0m \u001b[32m201.6/201.6 kB\u001b[0m \u001b[31m17.2 MB/s\u001b[0m eta \u001b[36m0:00:00\u001b[0m\n",
            "\u001b[2K   \u001b[90m━━━━━━━━━━━━━━━━━━━━━━━━━━━━━━━━━━━━━━━━\u001b[0m \u001b[32m105.4/105.4 kB\u001b[0m \u001b[31m9.6 MB/s\u001b[0m eta \u001b[36m0:00:00\u001b[0m\n",
            "\u001b[2K   \u001b[90m━━━━━━━━━━━━━━━━━━━━━━━━━━━━━━━━━━━━━━━━\u001b[0m \u001b[32m71.4/71.4 kB\u001b[0m \u001b[31m6.5 MB/s\u001b[0m eta \u001b[36m0:00:00\u001b[0m\n",
            "\u001b[2K   \u001b[90m━━━━━━━━━━━━━━━━━━━━━━━━━━━━━━━━━━━━━━━━\u001b[0m \u001b[32m459.8/459.8 kB\u001b[0m \u001b[31m37.5 MB/s\u001b[0m eta \u001b[36m0:00:00\u001b[0m\n",
            "\u001b[2K   \u001b[90m━━━━━━━━━━━━━━━━━━━━━━━━━━━━━━━━━━━━━━━━\u001b[0m \u001b[32m4.0/4.0 MB\u001b[0m \u001b[31m111.5 MB/s\u001b[0m eta \u001b[36m0:00:00\u001b[0m\n",
            "\u001b[2K   \u001b[90m━━━━━━━━━━━━━━━━━━━━━━━━━━━━━━━━━━━━━━━━\u001b[0m \u001b[32m453.1/453.1 kB\u001b[0m \u001b[31m33.2 MB/s\u001b[0m eta \u001b[36m0:00:00\u001b[0m\n",
            "\u001b[2K   \u001b[90m━━━━━━━━━━━━━━━━━━━━━━━━━━━━━━━━━━━━━━━━\u001b[0m \u001b[32m46.0/46.0 kB\u001b[0m \u001b[31m3.8 MB/s\u001b[0m eta \u001b[36m0:00:00\u001b[0m\n",
            "\u001b[2K   \u001b[90m━━━━━━━━━━━━━━━━━━━━━━━━━━━━━━━━━━━━━━━━\u001b[0m \u001b[32m86.8/86.8 kB\u001b[0m \u001b[31m8.1 MB/s\u001b[0m eta \u001b[36m0:00:00\u001b[0m\n",
            "\u001b[?25h  Building wheel for pypika (pyproject.toml) ... \u001b[?25l\u001b[?25hdone\n",
            "\u001b[2K   \u001b[90m━━━━━━━━━━━━━━━━━━━━━━━━━━━━━━━━━━━━━━━━\u001b[0m \u001b[32m2.5/2.5 MB\u001b[0m \u001b[31m10.2 MB/s\u001b[0m eta \u001b[36m0:00:00\u001b[0m\n",
            "\u001b[2K   \u001b[90m━━━━━━━━━━━━━━━━━━━━━━━━━━━━━━━━━━━━━━━━\u001b[0m \u001b[32m45.2/45.2 kB\u001b[0m \u001b[31m3.8 MB/s\u001b[0m eta \u001b[36m0:00:00\u001b[0m\n",
            "\u001b[2K   \u001b[90m━━━━━━━━━━━━━━━━━━━━━━━━━━━━━━━━━━━━━━━━\u001b[0m \u001b[32m50.9/50.9 kB\u001b[0m \u001b[31m4.8 MB/s\u001b[0m eta \u001b[36m0:00:00\u001b[0m\n",
            "\u001b[?25hCollecting PyPDF2\n",
            "  Downloading pypdf2-3.0.1-py3-none-any.whl.metadata (6.8 kB)\n",
            "Downloading pypdf2-3.0.1-py3-none-any.whl (232 kB)\n",
            "\u001b[2K   \u001b[90m━━━━━━━━━━━━━━━━━━━━━━━━━━━━━━━━━━━━━━━━\u001b[0m \u001b[32m232.6/232.6 kB\u001b[0m \u001b[31m16.4 MB/s\u001b[0m eta \u001b[36m0:00:00\u001b[0m\n",
            "\u001b[?25hInstalling collected packages: PyPDF2\n",
            "Successfully installed PyPDF2-3.0.1\n",
            "Collecting PyMuPDF\n",
            "  Downloading pymupdf-1.26.3-cp39-abi3-manylinux_2_28_x86_64.whl.metadata (3.4 kB)\n",
            "Downloading pymupdf-1.26.3-cp39-abi3-manylinux_2_28_x86_64.whl (24.1 MB)\n",
            "\u001b[2K   \u001b[90m━━━━━━━━━━━━━━━━━━━━━━━━━━━━━━━━━━━━━━━━\u001b[0m \u001b[32m24.1/24.1 MB\u001b[0m \u001b[31m65.2 MB/s\u001b[0m eta \u001b[36m0:00:00\u001b[0m\n",
            "\u001b[?25hInstalling collected packages: PyMuPDF\n",
            "Successfully installed PyMuPDF-1.26.3\n"
          ]
        }
      ],
      "source": [
        "%pip install -Uq chromadb tiktoken\n",
        "%pip install -Uq langchain langchain-community\n",
        "%pip install -Uq python_dotenv\n",
        "%pip install PyPDF2\n",
        "!pip install PyMuPDF\n"
      ]
    },
    {
      "cell_type": "code",
      "execution_count": 2,
      "metadata": {
        "colab": {
          "base_uri": "https://localhost:8080/"
        },
        "id": "tfgwLccInJaF",
        "outputId": "8fc24e96-c771-4214-ff00-c5af6eabb00f"
      },
      "outputs": [
        {
          "output_type": "stream",
          "name": "stdout",
          "text": [
            "📄 Extracting text and chunking per page...\n"
          ]
        },
        {
          "output_type": "stream",
          "name": "stderr",
          "text": [
            "Chunking: 100%|██████████| 536/536 [00:01<00:00, 480.68it/s]\n"
          ]
        }
      ],
      "source": [
        "import fitz  # PyMuPDF\n",
        "import json\n",
        "import os\n",
        "from tqdm import tqdm\n",
        "from langchain.vectorstores import Chroma\n",
        "from langchain.embeddings import HuggingFaceEmbeddings\n",
        "from langchain.schema import Document\n",
        "from langchain.text_splitter import RecursiveCharacterTextSplitter\n",
        "\n",
        "PDF_PATH = \"dog-facts-the-pet-parent’s-atoz-home-care-encyclopedia.pdf\"\n",
        "CHROMA_PATH = \"./chroma_db\"\n",
        "\n",
        "# === Step 1: Extract and split by page ===\n",
        "print(\"📄 Extracting text and chunking per page...\")\n",
        "doc = fitz.open(PDF_PATH)\n",
        "\n",
        "# Text splitter (customize chunk size and overlap as needed)\n",
        "text_splitter = RecursiveCharacterTextSplitter(\n",
        "    chunk_size=500,\n",
        "    chunk_overlap=100,\n",
        "    separators=[\"\\n\\n\", \"\\n\", \" \", \"\"]\n",
        ")\n",
        "\n",
        "all_chunks = []\n",
        "\n",
        "for page_num in tqdm(range(len(doc)), desc=\"Chunking\"):\n",
        "    page = doc.load_page(page_num)\n",
        "    text = page.get_text()\n",
        "    if not text.strip():\n",
        "        continue\n",
        "\n",
        "    # Split page into smaller chunks\n",
        "    chunks = text_splitter.split_text(text)\n",
        "\n",
        "    # Attach page metadata\n",
        "    for chunk in chunks:\n",
        "        all_chunks.append(\n",
        "            Document(\n",
        "                page_content=chunk,\n",
        "                metadata={\"page\": page_num + 1}\n",
        "            )\n",
        "        )"
      ]
    },
    {
      "cell_type": "code",
      "execution_count": null,
      "metadata": {
        "colab": {
          "base_uri": "https://localhost:8080/"
        },
        "id": "3IQJcO-NqvvC",
        "outputId": "d9eedb98-256a-4e4f-d51f-795044aab40f"
      },
      "outputs": [
        {
          "data": {
            "text/plain": [
              "2998"
            ]
          },
          "execution_count": 5,
          "metadata": {},
          "output_type": "execute_result"
        }
      ],
      "source": [
        "len(all_chunks)"
      ]
    },
    {
      "cell_type": "code",
      "execution_count": null,
      "metadata": {
        "colab": {
          "base_uri": "https://localhost:8080/"
        },
        "id": "_V221OpUqxMe",
        "outputId": "029106e0-f3f4-461e-ce99-e5b0bd5df80f"
      },
      "outputs": [
        {
          "data": {
            "text/plain": [
              "Document(metadata={'page': 4}, page_content='I am grateful to all the cats and dogs I’ve met over the years who have shared my\\nheart. Nine-year-old Magical-Dawg, 20-year-old Seren-Kitty, and the newcomer\\nKarma-Kat inspire me daily.  Thanks be to ALL the dogs: those who live in our past,\\nour present, and our future. I hope this book helps you with all of your furry wonders.\\nI never would have been a pet lover, a reader and now a writer if not for my\\nfantastic parents who instilled in me a love of the written word, and never looked')"
            ]
          },
          "execution_count": 6,
          "metadata": {},
          "output_type": "execute_result"
        }
      ],
      "source": [
        "all_chunks[7]"
      ]
    },
    {
      "cell_type": "code",
      "execution_count": 3,
      "metadata": {
        "colab": {
          "base_uri": "https://localhost:8080/"
        },
        "id": "BhiCTx0DsX7D",
        "outputId": "64a6a422-635c-4fac-c1aa-2d758f5705da"
      },
      "outputs": [
        {
          "output_type": "stream",
          "name": "stderr",
          "text": [
            "/tmp/ipython-input-1935616323.py:1: LangChainDeprecationWarning: The class `HuggingFaceEmbeddings` was deprecated in LangChain 0.2.2 and will be removed in 1.0. An updated version of the class exists in the :class:`~langchain-huggingface package and should be used instead. To use it run `pip install -U :class:`~langchain-huggingface` and import as `from :class:`~langchain_huggingface import HuggingFaceEmbeddings``.\n",
            "  embeddings = HuggingFaceEmbeddings(\n",
            "/usr/local/lib/python3.11/dist-packages/huggingface_hub/utils/_auth.py:94: UserWarning: \n",
            "The secret `HF_TOKEN` does not exist in your Colab secrets.\n",
            "To authenticate with the Hugging Face Hub, create a token in your settings tab (https://huggingface.co/settings/tokens), set it as secret in your Google Colab and restart your session.\n",
            "You will be able to reuse this secret in all of your notebooks.\n",
            "Please note that authentication is recommended but still optional to access public models or datasets.\n",
            "  warnings.warn(\n",
            "/tmp/ipython-input-1935616323.py:6: LangChainDeprecationWarning: The class `Chroma` was deprecated in LangChain 0.2.9 and will be removed in 1.0. An updated version of the class exists in the :class:`~langchain-chroma package and should be used instead. To use it run `pip install -U :class:`~langchain-chroma` and import as `from :class:`~langchain_chroma import Chroma``.\n",
            "  vectorstore = Chroma(\n",
            "/usr/local/lib/python3.11/dist-packages/torch/nn/modules/module.py:1750: FutureWarning: `encoder_attention_mask` is deprecated and will be removed in version 4.55.0 for `BertSdpaSelfAttention.forward`.\n",
            "  return forward_call(*args, **kwargs)\n",
            "/tmp/ipython-input-1935616323.py:13: LangChainDeprecationWarning: Since Chroma 0.4.x the manual persistence method is no longer supported as docs are automatically persisted.\n",
            "  vectorstore.persist()\n"
          ]
        }
      ],
      "source": [
        "embeddings = HuggingFaceEmbeddings(\n",
        "    model_name=\"sentence-transformers/paraphrase-multilingual-MiniLM-L12-v2\",\n",
        "    encode_kwargs={\"normalize_embeddings\": True}\n",
        ")\n",
        "\n",
        "vectorstore = Chroma(\n",
        "    collection_name=\"rag_store\",\n",
        "    embedding_function=embeddings,\n",
        "    persist_directory=CHROMA_PATH\n",
        ")\n",
        "\n",
        "vectorstore.add_documents(all_chunks)\n",
        "vectorstore.persist()\n"
      ]
    },
    {
      "cell_type": "code",
      "execution_count": 4,
      "metadata": {
        "colab": {
          "base_uri": "https://localhost:8080/"
        },
        "id": "yILWj2CSsn6_",
        "outputId": "889996de-1093-43f4-f023-af2908741079"
      },
      "outputs": [
        {
          "output_type": "stream",
          "name": "stdout",
          "text": [
            "📄 Page 309 | 🔍 Cosine Similarity Score: 0.5701\n",
            "be associated with canine boredom. The affected dog incessantly licks a selected area,\n",
            "usually on a lower leg, which creates a raised, hairless ulcerative plaque, almost a\n",
            "callus that surrounds the ne...\n",
            "\n",
            "--------------------------------------------------\n",
            "📄 Page 309 | 🔍 Cosine Similarity Score: 0.5701\n",
            "be associated with canine boredom. The affected dog incessantly licks a selected area,\n",
            "usually on a lower leg, which creates a raised, hairless ulcerative plaque, almost a\n",
            "callus that surrounds the ne...\n",
            "\n",
            "--------------------------------------------------\n",
            "📄 Page 42 | 🔍 Cosine Similarity Score: 0.6956\n",
            "address these issues if your dog is also scratching a lot and paw-licking (see\n",
            "ALLERGY).\n",
            "The secretions become pasty and thick when not regularly expressed, and simply\n",
            "plug the normal exit. Signs of a...\n",
            "\n",
            "--------------------------------------------------\n"
          ]
        }
      ],
      "source": [
        "retriever = vectorstore.as_retriever(search_kwargs={\"k\": 3})\n",
        "query = \"Why is my dog itching so much?\"\n",
        "results_with_scores = vectorstore.similarity_search_with_score(query, k=3)\n",
        "\n",
        "for doc, score in results_with_scores:\n",
        "    page = doc.metadata.get(\"page\", \"Unknown\")\n",
        "    print(f\"📄 Page {page} | 🔍 Cosine Similarity Score: {score:.4f}\")\n",
        "    print(f\"{doc.page_content[:200]}...\\n\")\n",
        "    print(\"-\" * 50)\n"
      ]
    },
    {
      "cell_type": "code",
      "execution_count": null,
      "metadata": {
        "colab": {
          "base_uri": "https://localhost:8080/"
        },
        "id": "gegXSGpR26gc",
        "outputId": "7c5fe353-3266-479c-8a50-4ffe0d7b2135"
      },
      "outputs": [
        {
          "name": "stdout",
          "output_type": "stream",
          "text": [
            "📄 Page 217 | 🔍 Cosine Similarity Score: 0.5542\n",
            "roots, grasses and even fruit. Our dogs often beg for and enjoy snacks of raw\n",
            "vegetables like lettuce, green beans and carrots.\n",
            "Most pet dogs occasionally eat grass, which may be used as a natural eme...\n",
            "\n",
            "--------------------------------------------------\n",
            "📄 Page 217 | 🔍 Cosine Similarity Score: 0.5815\n",
            "speculation exists that grass grazing may provide trace elements of vitamins.\n",
            " Indoor dogs may indulge their urge to graze by nibbling houseplants which,\n",
            "depending on the plant, may be dangerous (see ...\n",
            "\n",
            "--------------------------------------------------\n",
            "📄 Page 126 | 🔍 Cosine Similarity Score: 0.6601\n",
            "toilet area.\n",
            "The behavior resolves in some dogs fed a high-protein low carbohydrate ration\n",
            "twice a day. Adding a tablespoon of vegetable oil to the food every day seems to help\n",
            "in some cases.\n",
            "When all...\n",
            "\n",
            "--------------------------------------------------\n"
          ]
        }
      ],
      "source": [
        "retriever = vectorstore.as_retriever(search_kwargs={\"k\": 3})\n",
        "query = \"Why is my dog eating grass?\"\n",
        "results_with_scores = vectorstore.similarity_search_with_score(query, k=3)\n",
        "\n",
        "for doc, score in results_with_scores:\n",
        "    page = doc.metadata.get(\"page\", \"Unknown\")\n",
        "    print(f\"📄 Page {page} | 🔍 Cosine Similarity Score: {score:.4f}\")\n",
        "    print(f\"{doc.page_content[:200]}...\\n\")\n",
        "    print(\"-\" * 50)\n"
      ]
    },
    {
      "cell_type": "code",
      "execution_count": null,
      "metadata": {
        "colab": {
          "base_uri": "https://localhost:8080/",
          "height": 36
        },
        "id": "D1xPK7q8s3bX",
        "outputId": "3089bc20-7cf5-4452-d84a-bef526277c33"
      },
      "outputs": [
        {
          "data": {
            "application/vnd.google.colaboratory.intrinsic+json": {
              "type": "string"
            },
            "text/plain": [
              "'/content/chroma_db.zip'"
            ]
          },
          "execution_count": 15,
          "metadata": {},
          "output_type": "execute_result"
        }
      ],
      "source": [
        "import shutil\n",
        "\n",
        "shutil.make_archive(\"chroma_db\", 'zip', \"chroma_db\")\n"
      ]
    },
    {
      "cell_type": "code",
      "execution_count": null,
      "metadata": {
        "colab": {
          "base_uri": "https://localhost:8080/"
        },
        "id": "q9Hn733ouYWp",
        "outputId": "45134c39-301c-4349-d7da-80a31ed61912"
      },
      "outputs": [
        {
          "name": "stdout",
          "output_type": "stream",
          "text": [
            "Requirement already satisfied: langchain-community in /usr/local/lib/python3.11/dist-packages (0.3.27)\n",
            "Requirement already satisfied: langchain-core<1.0.0,>=0.3.66 in /usr/local/lib/python3.11/dist-packages (from langchain-community) (0.3.72)\n",
            "Requirement already satisfied: langchain<1.0.0,>=0.3.26 in /usr/local/lib/python3.11/dist-packages (from langchain-community) (0.3.27)\n",
            "Requirement already satisfied: SQLAlchemy<3,>=1.4 in /usr/local/lib/python3.11/dist-packages (from langchain-community) (2.0.42)\n",
            "Requirement already satisfied: requests<3,>=2 in /usr/local/lib/python3.11/dist-packages (from langchain-community) (2.32.3)\n",
            "Requirement already satisfied: PyYAML>=5.3 in /usr/local/lib/python3.11/dist-packages (from langchain-community) (6.0.2)\n",
            "Requirement already satisfied: aiohttp<4.0.0,>=3.8.3 in /usr/local/lib/python3.11/dist-packages (from langchain-community) (3.12.15)\n",
            "Requirement already satisfied: tenacity!=8.4.0,<10,>=8.1.0 in /usr/local/lib/python3.11/dist-packages (from langchain-community) (8.5.0)\n",
            "Requirement already satisfied: dataclasses-json<0.7,>=0.5.7 in /usr/local/lib/python3.11/dist-packages (from langchain-community) (0.6.7)\n",
            "Requirement already satisfied: pydantic-settings<3.0.0,>=2.4.0 in /usr/local/lib/python3.11/dist-packages (from langchain-community) (2.10.1)\n",
            "Requirement already satisfied: langsmith>=0.1.125 in /usr/local/lib/python3.11/dist-packages (from langchain-community) (0.4.9)\n",
            "Requirement already satisfied: httpx-sse<1.0.0,>=0.4.0 in /usr/local/lib/python3.11/dist-packages (from langchain-community) (0.4.1)\n",
            "Requirement already satisfied: numpy>=1.26.2 in /usr/local/lib/python3.11/dist-packages (from langchain-community) (2.0.2)\n",
            "Requirement already satisfied: aiohappyeyeballs>=2.5.0 in /usr/local/lib/python3.11/dist-packages (from aiohttp<4.0.0,>=3.8.3->langchain-community) (2.6.1)\n",
            "Requirement already satisfied: aiosignal>=1.4.0 in /usr/local/lib/python3.11/dist-packages (from aiohttp<4.0.0,>=3.8.3->langchain-community) (1.4.0)\n",
            "Requirement already satisfied: attrs>=17.3.0 in /usr/local/lib/python3.11/dist-packages (from aiohttp<4.0.0,>=3.8.3->langchain-community) (25.3.0)\n",
            "Requirement already satisfied: frozenlist>=1.1.1 in /usr/local/lib/python3.11/dist-packages (from aiohttp<4.0.0,>=3.8.3->langchain-community) (1.7.0)\n",
            "Requirement already satisfied: multidict<7.0,>=4.5 in /usr/local/lib/python3.11/dist-packages (from aiohttp<4.0.0,>=3.8.3->langchain-community) (6.6.3)\n",
            "Requirement already satisfied: propcache>=0.2.0 in /usr/local/lib/python3.11/dist-packages (from aiohttp<4.0.0,>=3.8.3->langchain-community) (0.3.2)\n",
            "Requirement already satisfied: yarl<2.0,>=1.17.0 in /usr/local/lib/python3.11/dist-packages (from aiohttp<4.0.0,>=3.8.3->langchain-community) (1.20.1)\n",
            "Requirement already satisfied: marshmallow<4.0.0,>=3.18.0 in /usr/local/lib/python3.11/dist-packages (from dataclasses-json<0.7,>=0.5.7->langchain-community) (3.26.1)\n",
            "Requirement already satisfied: typing-inspect<1,>=0.4.0 in /usr/local/lib/python3.11/dist-packages (from dataclasses-json<0.7,>=0.5.7->langchain-community) (0.9.0)\n",
            "Requirement already satisfied: langchain-text-splitters<1.0.0,>=0.3.9 in /usr/local/lib/python3.11/dist-packages (from langchain<1.0.0,>=0.3.26->langchain-community) (0.3.9)\n",
            "Requirement already satisfied: pydantic<3.0.0,>=2.7.4 in /usr/local/lib/python3.11/dist-packages (from langchain<1.0.0,>=0.3.26->langchain-community) (2.11.7)\n",
            "Requirement already satisfied: jsonpatch<2.0,>=1.33 in /usr/local/lib/python3.11/dist-packages (from langchain-core<1.0.0,>=0.3.66->langchain-community) (1.33)\n",
            "Requirement already satisfied: typing-extensions>=4.7 in /usr/local/lib/python3.11/dist-packages (from langchain-core<1.0.0,>=0.3.66->langchain-community) (4.14.1)\n",
            "Requirement already satisfied: packaging>=23.2 in /usr/local/lib/python3.11/dist-packages (from langchain-core<1.0.0,>=0.3.66->langchain-community) (25.0)\n",
            "Requirement already satisfied: httpx<1,>=0.23.0 in /usr/local/lib/python3.11/dist-packages (from langsmith>=0.1.125->langchain-community) (0.28.1)\n",
            "Requirement already satisfied: orjson<4.0.0,>=3.9.14 in /usr/local/lib/python3.11/dist-packages (from langsmith>=0.1.125->langchain-community) (3.11.1)\n",
            "Requirement already satisfied: requests-toolbelt<2.0.0,>=1.0.0 in /usr/local/lib/python3.11/dist-packages (from langsmith>=0.1.125->langchain-community) (1.0.0)\n",
            "Requirement already satisfied: zstandard<0.24.0,>=0.23.0 in /usr/local/lib/python3.11/dist-packages (from langsmith>=0.1.125->langchain-community) (0.23.0)\n",
            "Requirement already satisfied: python-dotenv>=0.21.0 in /usr/local/lib/python3.11/dist-packages (from pydantic-settings<3.0.0,>=2.4.0->langchain-community) (1.1.1)\n",
            "Requirement already satisfied: typing-inspection>=0.4.0 in /usr/local/lib/python3.11/dist-packages (from pydantic-settings<3.0.0,>=2.4.0->langchain-community) (0.4.1)\n",
            "Requirement already satisfied: charset-normalizer<4,>=2 in /usr/local/lib/python3.11/dist-packages (from requests<3,>=2->langchain-community) (3.4.2)\n",
            "Requirement already satisfied: idna<4,>=2.5 in /usr/local/lib/python3.11/dist-packages (from requests<3,>=2->langchain-community) (3.10)\n",
            "Requirement already satisfied: urllib3<3,>=1.21.1 in /usr/local/lib/python3.11/dist-packages (from requests<3,>=2->langchain-community) (2.5.0)\n",
            "Requirement already satisfied: certifi>=2017.4.17 in /usr/local/lib/python3.11/dist-packages (from requests<3,>=2->langchain-community) (2025.7.14)\n",
            "Requirement already satisfied: greenlet>=1 in /usr/local/lib/python3.11/dist-packages (from SQLAlchemy<3,>=1.4->langchain-community) (3.2.3)\n",
            "Requirement already satisfied: anyio in /usr/local/lib/python3.11/dist-packages (from httpx<1,>=0.23.0->langsmith>=0.1.125->langchain-community) (4.9.0)\n",
            "Requirement already satisfied: httpcore==1.* in /usr/local/lib/python3.11/dist-packages (from httpx<1,>=0.23.0->langsmith>=0.1.125->langchain-community) (1.0.9)\n",
            "Requirement already satisfied: h11>=0.16 in /usr/local/lib/python3.11/dist-packages (from httpcore==1.*->httpx<1,>=0.23.0->langsmith>=0.1.125->langchain-community) (0.16.0)\n",
            "Requirement already satisfied: jsonpointer>=1.9 in /usr/local/lib/python3.11/dist-packages (from jsonpatch<2.0,>=1.33->langchain-core<1.0.0,>=0.3.66->langchain-community) (3.0.0)\n",
            "Requirement already satisfied: annotated-types>=0.6.0 in /usr/local/lib/python3.11/dist-packages (from pydantic<3.0.0,>=2.7.4->langchain<1.0.0,>=0.3.26->langchain-community) (0.7.0)\n",
            "Requirement already satisfied: pydantic-core==2.33.2 in /usr/local/lib/python3.11/dist-packages (from pydantic<3.0.0,>=2.7.4->langchain<1.0.0,>=0.3.26->langchain-community) (2.33.2)\n",
            "Requirement already satisfied: mypy-extensions>=0.3.0 in /usr/local/lib/python3.11/dist-packages (from typing-inspect<1,>=0.4.0->dataclasses-json<0.7,>=0.5.7->langchain-community) (1.1.0)\n",
            "Requirement already satisfied: sniffio>=1.1 in /usr/local/lib/python3.11/dist-packages (from anyio->httpx<1,>=0.23.0->langsmith>=0.1.125->langchain-community) (1.3.1)\n",
            "Collecting langchain-openai\n",
            "  Downloading langchain_openai-0.3.28-py3-none-any.whl.metadata (2.3 kB)\n",
            "Requirement already satisfied: langchain-core<1.0.0,>=0.3.68 in /usr/local/lib/python3.11/dist-packages (from langchain-openai) (0.3.72)\n",
            "Requirement already satisfied: openai<2.0.0,>=1.86.0 in /usr/local/lib/python3.11/dist-packages (from langchain-openai) (1.98.0)\n",
            "Requirement already satisfied: tiktoken<1,>=0.7 in /usr/local/lib/python3.11/dist-packages (from langchain-openai) (0.10.0)\n",
            "Requirement already satisfied: langsmith>=0.3.45 in /usr/local/lib/python3.11/dist-packages (from langchain-core<1.0.0,>=0.3.68->langchain-openai) (0.4.9)\n",
            "Requirement already satisfied: tenacity!=8.4.0,<10.0.0,>=8.1.0 in /usr/local/lib/python3.11/dist-packages (from langchain-core<1.0.0,>=0.3.68->langchain-openai) (8.5.0)\n",
            "Requirement already satisfied: jsonpatch<2.0,>=1.33 in /usr/local/lib/python3.11/dist-packages (from langchain-core<1.0.0,>=0.3.68->langchain-openai) (1.33)\n",
            "Requirement already satisfied: PyYAML>=5.3 in /usr/local/lib/python3.11/dist-packages (from langchain-core<1.0.0,>=0.3.68->langchain-openai) (6.0.2)\n",
            "Requirement already satisfied: typing-extensions>=4.7 in /usr/local/lib/python3.11/dist-packages (from langchain-core<1.0.0,>=0.3.68->langchain-openai) (4.14.1)\n",
            "Requirement already satisfied: packaging>=23.2 in /usr/local/lib/python3.11/dist-packages (from langchain-core<1.0.0,>=0.3.68->langchain-openai) (25.0)\n",
            "Requirement already satisfied: pydantic>=2.7.4 in /usr/local/lib/python3.11/dist-packages (from langchain-core<1.0.0,>=0.3.68->langchain-openai) (2.11.7)\n",
            "Requirement already satisfied: anyio<5,>=3.5.0 in /usr/local/lib/python3.11/dist-packages (from openai<2.0.0,>=1.86.0->langchain-openai) (4.9.0)\n",
            "Requirement already satisfied: distro<2,>=1.7.0 in /usr/local/lib/python3.11/dist-packages (from openai<2.0.0,>=1.86.0->langchain-openai) (1.9.0)\n",
            "Requirement already satisfied: httpx<1,>=0.23.0 in /usr/local/lib/python3.11/dist-packages (from openai<2.0.0,>=1.86.0->langchain-openai) (0.28.1)\n",
            "Requirement already satisfied: jiter<1,>=0.4.0 in /usr/local/lib/python3.11/dist-packages (from openai<2.0.0,>=1.86.0->langchain-openai) (0.10.0)\n",
            "Requirement already satisfied: sniffio in /usr/local/lib/python3.11/dist-packages (from openai<2.0.0,>=1.86.0->langchain-openai) (1.3.1)\n",
            "Requirement already satisfied: tqdm>4 in /usr/local/lib/python3.11/dist-packages (from openai<2.0.0,>=1.86.0->langchain-openai) (4.67.1)\n",
            "Requirement already satisfied: regex>=2022.1.18 in /usr/local/lib/python3.11/dist-packages (from tiktoken<1,>=0.7->langchain-openai) (2024.11.6)\n",
            "Requirement already satisfied: requests>=2.26.0 in /usr/local/lib/python3.11/dist-packages (from tiktoken<1,>=0.7->langchain-openai) (2.32.3)\n",
            "Requirement already satisfied: idna>=2.8 in /usr/local/lib/python3.11/dist-packages (from anyio<5,>=3.5.0->openai<2.0.0,>=1.86.0->langchain-openai) (3.10)\n",
            "Requirement already satisfied: certifi in /usr/local/lib/python3.11/dist-packages (from httpx<1,>=0.23.0->openai<2.0.0,>=1.86.0->langchain-openai) (2025.7.14)\n",
            "Requirement already satisfied: httpcore==1.* in /usr/local/lib/python3.11/dist-packages (from httpx<1,>=0.23.0->openai<2.0.0,>=1.86.0->langchain-openai) (1.0.9)\n",
            "Requirement already satisfied: h11>=0.16 in /usr/local/lib/python3.11/dist-packages (from httpcore==1.*->httpx<1,>=0.23.0->openai<2.0.0,>=1.86.0->langchain-openai) (0.16.0)\n",
            "Requirement already satisfied: jsonpointer>=1.9 in /usr/local/lib/python3.11/dist-packages (from jsonpatch<2.0,>=1.33->langchain-core<1.0.0,>=0.3.68->langchain-openai) (3.0.0)\n",
            "Requirement already satisfied: orjson<4.0.0,>=3.9.14 in /usr/local/lib/python3.11/dist-packages (from langsmith>=0.3.45->langchain-core<1.0.0,>=0.3.68->langchain-openai) (3.11.1)\n",
            "Requirement already satisfied: requests-toolbelt<2.0.0,>=1.0.0 in /usr/local/lib/python3.11/dist-packages (from langsmith>=0.3.45->langchain-core<1.0.0,>=0.3.68->langchain-openai) (1.0.0)\n",
            "Requirement already satisfied: zstandard<0.24.0,>=0.23.0 in /usr/local/lib/python3.11/dist-packages (from langsmith>=0.3.45->langchain-core<1.0.0,>=0.3.68->langchain-openai) (0.23.0)\n",
            "Requirement already satisfied: annotated-types>=0.6.0 in /usr/local/lib/python3.11/dist-packages (from pydantic>=2.7.4->langchain-core<1.0.0,>=0.3.68->langchain-openai) (0.7.0)\n",
            "Requirement already satisfied: pydantic-core==2.33.2 in /usr/local/lib/python3.11/dist-packages (from pydantic>=2.7.4->langchain-core<1.0.0,>=0.3.68->langchain-openai) (2.33.2)\n",
            "Requirement already satisfied: typing-inspection>=0.4.0 in /usr/local/lib/python3.11/dist-packages (from pydantic>=2.7.4->langchain-core<1.0.0,>=0.3.68->langchain-openai) (0.4.1)\n",
            "Requirement already satisfied: charset-normalizer<4,>=2 in /usr/local/lib/python3.11/dist-packages (from requests>=2.26.0->tiktoken<1,>=0.7->langchain-openai) (3.4.2)\n",
            "Requirement already satisfied: urllib3<3,>=1.21.1 in /usr/local/lib/python3.11/dist-packages (from requests>=2.26.0->tiktoken<1,>=0.7->langchain-openai) (2.5.0)\n",
            "Downloading langchain_openai-0.3.28-py3-none-any.whl (70 kB)\n",
            "\u001b[2K   \u001b[90m━━━━━━━━━━━━━━━━━━━━━━━━━━━━━━━━━━━━━━━━\u001b[0m \u001b[32m70.6/70.6 kB\u001b[0m \u001b[31m6.1 MB/s\u001b[0m eta \u001b[36m0:00:00\u001b[0m\n",
            "\u001b[?25hInstalling collected packages: langchain-openai\n",
            "Successfully installed langchain-openai-0.3.28\n"
          ]
        }
      ],
      "source": [
        "%pip install -U langchain-community\n",
        "%pip install -U langchain-openai\n"
      ]
    },
    {
      "cell_type": "code",
      "execution_count": null,
      "metadata": {
        "id": "UUfdrl45upxt"
      },
      "outputs": [],
      "source": [
        "from langchain_core.prompts import ChatPromptTemplate\n",
        "from langchain_core.runnables import RunnablePassthrough, RunnableLambda\n",
        "from langchain_core.output_parsers import StrOutputParser\n",
        "from langchain_openai import ChatOpenAI\n",
        "from langchain_core.messages import HumanMessage\n",
        "from google.colab import userdata\n",
        "\n",
        "os.environ[\"OPENAI_API_KEY\"] = userdata.get('open_router')\n",
        "\n",
        "# === Setup your LLM ===\n",
        "llm = ChatOpenAI(\n",
        "    base_url=\"https://openrouter.ai/api/v1\",\n",
        "    api_key=os.environ[\"OPENAI_API_KEY\"],\n",
        "    model=\"mistralai/mixtral-8x7b-instruct\",\n",
        "    temperature=0\n",
        ")\n",
        "\n",
        "# === Build the retriever wrapper ===\n",
        "# 'query' is a string (the question)\n",
        "\n",
        "# === Prompt builder (returns a ChatPromptValue) ===\n",
        "def build_prompt(kwargs):\n",
        "    docs = kwargs[\"context\"]\n",
        "    question = kwargs[\"question\"]\n",
        "    context = \"\\n\\n\".join(str(doc) for doc in docs)\n",
        "\n",
        "    prompt = ChatPromptTemplate.from_template(\n",
        "        \"\"\"You are a professional and experienced veterinarian. Using only the information provided in the context below, answer the question as accurately and clearly as possible .\n",
        "\n",
        "- Do not introduce external information.\n",
        "- Do not make assumptions beyond what the context supports.\n",
        "- Keep your answer concise and medically relevant.\n",
        "\n",
        "Context:\n",
        "{context}\n",
        "\n",
        "Question:\n",
        "{question}\n",
        "\n",
        "Answer:\"\"\"\n",
        "    )\n",
        "    return prompt.format(context=context, question=question)\n",
        "\n",
        "# === Compose the chain ===\n",
        "chain = (\n",
        "    {\n",
        "        \"context\": retriever,\n",
        "        \"question\": RunnablePassthrough()\n",
        "    }\n",
        "    | RunnableLambda(build_prompt)\n",
        "    | llm\n",
        "    | StrOutputParser()\n",
        ")"
      ]
    },
    {
      "cell_type": "code",
      "execution_count": null,
      "metadata": {
        "colab": {
          "base_uri": "https://localhost:8080/"
        },
        "id": "i6DgNFjEvGc1",
        "outputId": "1ccb55e3-854a-4a64-b382-0894d280b585"
      },
      "outputs": [
        {
          "name": "stderr",
          "output_type": "stream",
          "text": [
            "/usr/local/lib/python3.11/dist-packages/torch/nn/modules/module.py:1750: FutureWarning: `encoder_attention_mask` is deprecated and will be removed in version 4.55.0 for `BertSdpaSelfAttention.forward`.\n",
            "  return forward_call(*args, **kwargs)\n",
            "/usr/local/lib/python3.11/dist-packages/torch/nn/modules/module.py:1750: FutureWarning: `encoder_attention_mask` is deprecated and will be removed in version 4.55.0 for `BertSdpaSelfAttention.forward`.\n",
            "  return forward_call(*args, **kwargs)\n"
          ]
        },
        {
          "name": "stdout",
          "output_type": "stream",
          "text": [
            " According to the provided context, you should clean your dog's ears by gently wiping the visible portions of the ear with a 50/50 vinegar and water solution, or a commercial ear cleaning solution, using a cotton ball, soft cloth, or cotton swab. Do not drip cleaner into the ear canal or insert any instrument unless instructed by a veterinarian to avoid potential damage. If your dog has pendulous ears, like Cocker Spaniels, they may benefit from a weekly cleaning with a drying agent to prevent moisture buildup and potential ear infections.\n"
          ]
        }
      ],
      "source": [
        "query=\"How do I clean my dogs ears?\"\n",
        "response=chain.invoke(query)\n",
        "\n",
        "print(response)"
      ]
    },
    {
      "cell_type": "code",
      "execution_count": null,
      "metadata": {
        "colab": {
          "base_uri": "https://localhost:8080/"
        },
        "id": "xyofhqVwwHwT",
        "outputId": "ddbbab20-0bd4-4441-9d1c-58c08f13790f"
      },
      "outputs": [
        {
          "name": "stderr",
          "output_type": "stream",
          "text": [
            "/usr/local/lib/python3.11/dist-packages/torch/nn/modules/module.py:1750: FutureWarning: `encoder_attention_mask` is deprecated and will be removed in version 4.55.0 for `BertSdpaSelfAttention.forward`.\n",
            "  return forward_call(*args, **kwargs)\n"
          ]
        },
        {
          "name": "stdout",
          "output_type": "stream",
          "text": [
            " Based on the information provided, there's no specific mention of a rash on the stomach. However, if the rash is characterized by red, crusty skin with pustules, it could potentially be a symptom of a bacterial infection related to a parasitic infestation, such as Demodicosis. This condition can cause skin issues and, in severe cases, can affect internal organs. If your dog is showing such symptoms, it would be best to consult with a veterinarian for a proper diagnosis and treatment.\n"
          ]
        }
      ],
      "source": [
        "response = chain.invoke(\"my dog has rash on his stomach why is that\")\n",
        "print(response)"
      ]
    },
    {
      "cell_type": "code",
      "execution_count": null,
      "metadata": {
        "colab": {
          "base_uri": "https://localhost:8080/"
        },
        "id": "udVfICRFwcLm",
        "outputId": "29cd79f3-cc14-4c74-c819-ec1856ba209c"
      },
      "outputs": [
        {
          "name": "stderr",
          "output_type": "stream",
          "text": [
            "/usr/local/lib/python3.11/dist-packages/torch/nn/modules/module.py:1750: FutureWarning: `encoder_attention_mask` is deprecated and will be removed in version 4.55.0 for `BertSdpaSelfAttention.forward`.\n",
            "  return forward_call(*args, **kwargs)\n"
          ]
        },
        {
          "name": "stdout",
          "output_type": "stream",
          "text": [
            " The frequency of bathing your dog depends on its coat type and lifestyle. For regularly groomed dogs with silky or wiry coats, baths four times a year are recommended. German Shepherds and similarly coated dogs should be bathed a couple of times a year, ideally in spring and fall. Smooth-coated pets like Rottweilers may need a bath only once a year. However, if your dog gets smelly or dingy-looking, or if it has encountered a skunk, it will require a bath sooner. Always ensure there are no mats in your dog's coat before bathing.\n"
          ]
        }
      ],
      "source": [
        "response = chain.invoke(\"How often should I bathe my dog?\")\n",
        "print(response)"
      ]
    },
    {
      "cell_type": "code",
      "execution_count": null,
      "metadata": {
        "id": "2Q4CR3Aawj3G"
      },
      "outputs": [],
      "source": [
        "eval_data = [\n",
        "    {\n",
        "        \"question\": \"What is the average lifespan of a dog?\",\n",
        "        \"ground_truth\": \"The average lifespan of a dog is 10 to 13 years, depending on the breed and health conditions.\"\n",
        "    },\n",
        "    {\n",
        "        \"question\": \"Are dogs omnivores or carnivores?\",\n",
        "        \"ground_truth\": \"Dogs are omnivores; they can eat both meat and plant-based foods.\"\n",
        "    },\n",
        "    {\n",
        "        \"question\": \"Which breed is known as the fastest dog?\",\n",
        "        \"ground_truth\": \"The Greyhound is known as the fastest dog breed, capable of reaching speeds up to 45 miles per hour.\"\n",
        "    },\n",
        "    {\n",
        "        \"question\": \"Can dogs see colors?\",\n",
        "        \"ground_truth\": \"Dogs can see some colors, mainly blue and yellow, but they are not completely colorblind.\"\n",
        "    },\n",
        "    {\n",
        "        \"question\": \"Why do dogs wag their tails?\",\n",
        "        \"ground_truth\": \"Dogs wag their tails to communicate emotions like happiness, excitement, or nervousness.\"\n",
        "    },\n",
        "    {\n",
        "        \"question\": \"What is the most intelligent dog breed?\",\n",
        "        \"ground_truth\": \"The Border Collie is often considered the most intelligent dog breed.\"\n",
        "    },\n",
        "    {\n",
        "        \"question\": \"How many teeth does an adult dog have?\",\n",
        "        \"ground_truth\": \"An adult dog typically has 42 teeth.\"\n",
        "    },\n",
        "    {\n",
        "        \"question\": \"Why do dogs pant?\",\n",
        "        \"ground_truth\": \"Dogs pant to regulate their body temperature and cool down, especially after exercise or in hot weather.\"\n",
        "    },\n",
        "    {\n",
        "        \"question\": \"At what age do puppies start teething?\",\n",
        "        \"ground_truth\": \"Puppies usually start teething at around 3 weeks old and continue until about 6 months.\"\n",
        "    },\n",
        "    {\n",
        "        \"question\": \"Can dogs eat chocolate?\",\n",
        "        \"ground_truth\": \"No, chocolate is toxic to dogs and can cause serious health issues or even be fatal.\"\n",
        "    }\n",
        "]\n",
        "\n",
        "import json\n",
        "\n",
        "with open(\"dog_qa_eval_data1.json\", \"w\", encoding=\"utf-8\") as f:\n",
        "    json.dump(eval_data, f, ensure_ascii=False, indent=2)"
      ]
    },
    {
      "cell_type": "code",
      "execution_count": null,
      "metadata": {
        "colab": {
          "base_uri": "https://localhost:8080/"
        },
        "id": "gQzwkENrw0kE",
        "outputId": "84892800-8b65-4d38-f097-8f15e8edf00b"
      },
      "outputs": [
        {
          "name": "stdout",
          "output_type": "stream",
          "text": [
            "Requirement already satisfied: nltk in /usr/local/lib/python3.11/dist-packages (3.9.1)\n",
            "Collecting rouge-score\n",
            "  Downloading rouge_score-0.1.2.tar.gz (17 kB)\n",
            "  Preparing metadata (setup.py) ... \u001b[?25l\u001b[?25hdone\n",
            "Requirement already satisfied: click in /usr/local/lib/python3.11/dist-packages (from nltk) (8.2.1)\n",
            "Requirement already satisfied: joblib in /usr/local/lib/python3.11/dist-packages (from nltk) (1.5.1)\n",
            "Requirement already satisfied: regex>=2021.8.3 in /usr/local/lib/python3.11/dist-packages (from nltk) (2024.11.6)\n",
            "Requirement already satisfied: tqdm in /usr/local/lib/python3.11/dist-packages (from nltk) (4.67.1)\n",
            "Requirement already satisfied: absl-py in /usr/local/lib/python3.11/dist-packages (from rouge-score) (1.4.0)\n",
            "Requirement already satisfied: numpy in /usr/local/lib/python3.11/dist-packages (from rouge-score) (2.0.2)\n",
            "Requirement already satisfied: six>=1.14.0 in /usr/local/lib/python3.11/dist-packages (from rouge-score) (1.17.0)\n",
            "Building wheels for collected packages: rouge-score\n",
            "  Building wheel for rouge-score (setup.py) ... \u001b[?25l\u001b[?25hdone\n",
            "  Created wheel for rouge-score: filename=rouge_score-0.1.2-py3-none-any.whl size=24934 sha256=500ddb6ed311b2529e645b5956a0b146e63e14202165dda4dd77ec3baf3080e4\n",
            "  Stored in directory: /root/.cache/pip/wheels/1e/19/43/8a442dc83660ca25e163e1bd1f89919284ab0d0c1475475148\n",
            "Successfully built rouge-score\n",
            "Installing collected packages: rouge-score\n",
            "Successfully installed rouge-score-0.1.2\n"
          ]
        }
      ],
      "source": [
        "!pip install nltk rouge-score"
      ]
    },
    {
      "cell_type": "code",
      "execution_count": null,
      "metadata": {
        "colab": {
          "base_uri": "https://localhost:8080/"
        },
        "id": "KIARKf1HxbP5",
        "outputId": "978821ef-9cd7-405e-a810-1d7be8607d68"
      },
      "outputs": [
        {
          "name": "stderr",
          "output_type": "stream",
          "text": [
            "\rGenerating predictions:   0%|          | 0/10 [00:00<?, ?it/s]/usr/local/lib/python3.11/dist-packages/torch/nn/modules/module.py:1750: FutureWarning: `encoder_attention_mask` is deprecated and will be removed in version 4.55.0 for `BertSdpaSelfAttention.forward`.\n",
            "  return forward_call(*args, **kwargs)\n",
            "Generating predictions:  10%|█         | 1/10 [00:01<00:14,  1.61s/it]/usr/local/lib/python3.11/dist-packages/torch/nn/modules/module.py:1750: FutureWarning: `encoder_attention_mask` is deprecated and will be removed in version 4.55.0 for `BertSdpaSelfAttention.forward`.\n",
            "  return forward_call(*args, **kwargs)\n",
            "Generating predictions:  20%|██        | 2/10 [00:03<00:12,  1.56s/it]/usr/local/lib/python3.11/dist-packages/torch/nn/modules/module.py:1750: FutureWarning: `encoder_attention_mask` is deprecated and will be removed in version 4.55.0 for `BertSdpaSelfAttention.forward`.\n",
            "  return forward_call(*args, **kwargs)\n",
            "Generating predictions:  30%|███       | 3/10 [00:04<00:10,  1.49s/it]/usr/local/lib/python3.11/dist-packages/torch/nn/modules/module.py:1750: FutureWarning: `encoder_attention_mask` is deprecated and will be removed in version 4.55.0 for `BertSdpaSelfAttention.forward`.\n",
            "  return forward_call(*args, **kwargs)\n",
            "Generating predictions:  40%|████      | 4/10 [00:05<00:08,  1.47s/it]/usr/local/lib/python3.11/dist-packages/torch/nn/modules/module.py:1750: FutureWarning: `encoder_attention_mask` is deprecated and will be removed in version 4.55.0 for `BertSdpaSelfAttention.forward`.\n",
            "  return forward_call(*args, **kwargs)\n",
            "Generating predictions:  50%|█████     | 5/10 [00:07<00:07,  1.58s/it]/usr/local/lib/python3.11/dist-packages/torch/nn/modules/module.py:1750: FutureWarning: `encoder_attention_mask` is deprecated and will be removed in version 4.55.0 for `BertSdpaSelfAttention.forward`.\n",
            "  return forward_call(*args, **kwargs)\n",
            "Generating predictions:  60%|██████    | 6/10 [00:10<00:07,  1.85s/it]/usr/local/lib/python3.11/dist-packages/torch/nn/modules/module.py:1750: FutureWarning: `encoder_attention_mask` is deprecated and will be removed in version 4.55.0 for `BertSdpaSelfAttention.forward`.\n",
            "  return forward_call(*args, **kwargs)\n",
            "Generating predictions:  70%|███████   | 7/10 [00:11<00:05,  1.75s/it]/usr/local/lib/python3.11/dist-packages/torch/nn/modules/module.py:1750: FutureWarning: `encoder_attention_mask` is deprecated and will be removed in version 4.55.0 for `BertSdpaSelfAttention.forward`.\n",
            "  return forward_call(*args, **kwargs)\n",
            "Generating predictions:  80%|████████  | 8/10 [00:14<00:04,  2.08s/it]/usr/local/lib/python3.11/dist-packages/torch/nn/modules/module.py:1750: FutureWarning: `encoder_attention_mask` is deprecated and will be removed in version 4.55.0 for `BertSdpaSelfAttention.forward`.\n",
            "  return forward_call(*args, **kwargs)\n",
            "Generating predictions:  90%|█████████ | 9/10 [00:15<00:01,  1.79s/it]/usr/local/lib/python3.11/dist-packages/torch/nn/modules/module.py:1750: FutureWarning: `encoder_attention_mask` is deprecated and will be removed in version 4.55.0 for `BertSdpaSelfAttention.forward`.\n",
            "  return forward_call(*args, **kwargs)\n",
            "Generating predictions: 100%|██████████| 10/10 [00:17<00:00,  1.73s/it]\n",
            "/usr/local/lib/python3.11/dist-packages/torch/nn/modules/module.py:1750: FutureWarning: `encoder_attention_mask` is deprecated and will be removed in version 4.55.0 for `BertSdpaSelfAttention.forward`.\n",
            "  return forward_call(*args, **kwargs)\n"
          ]
        },
        {
          "name": "stdout",
          "output_type": "stream",
          "text": [
            "\n",
            "🔍 Embedding Similarity per QA Pair:\n",
            "Q1: 0.6727\n",
            "Question: How often should I take my dog to the vet?\n",
            "Prediction: The context suggests that for \"core\" vaccinations, either annual or every three years revaccination is typically recommended. Given that your dog will need to see the vet regularly for well-dog exams anyway, these visits can serve as opportunities to administer or discuss the core vaccines. Therefore, you should take your dog to the vet at least annually, but your vet may recommend specific intervals for different vaccines.\n",
            "Ground Truth: At minimum, adult dogs should have an annual wellness exam. Puppies require more frequent visits for vaccinations and checkups, while senior dogs (7+ years) benefit from twice-yearly visits to catch age-related issues early.\n",
            "\n",
            "Q2: 0.6440\n",
            "Question: What vaccines does my dog need?\n",
            "Prediction: Based on the provided context, the vaccines your dog needs depend on its risk factors, which are influenced by its age, immune competence, exposure, and stress levels. Some vaccines are designed to prevent disease, while others reduce severity. Only dogs at risk for infection should receive noncore vaccinations. It's recommended to consult with a veterinarian to determine the most appropriate vaccines for your dog based on its specific needs and local disease prevalence.\n",
            "Ground Truth: Core vaccines include rabies, distemper, parvovirus, and adenovirus. Non-core vaccines may include Bordetella (kennel cough), leptospirosis, and Lyme — depending on lifestyle and location. A veterinarian will tailor the schedule to your dog's risk.\n",
            "\n",
            "Q3: 0.8976\n",
            "Question: How can I tell if my dog is in pain?\n",
            "Prediction: Based on the provided context, signs of pain in a dog can include hiding, remaining very still and quiet, becoming vocal, acting agitated, panting or drooling, refusing food, and flinching, yelping, or snapping when touched in a tender place. If you notice any of these signs, it is recommended to have your dog checked by a veterinarian.\n",
            "Ground Truth: Dogs often hide pain. Signs include limping, whining, reduced activity, aggression, licking a specific area, or changes in eating or behavior. Any of these warrant a veterinary exam.\n",
            "\n",
            "Q4: 0.5430\n",
            "Question: Can dogs eat human food?\n",
            "Prediction: The context does not provide specific information about dogs eating human food. However, it does mention that dogs are omnivores with a strong preference for meat, and that their ancestors ate what they could catch or scavenge. It also states that owners should ensure the canine diet is appropriate. Therefore, while some human foods may be safe for dogs, it's crucial to ensure that any human food given to a dog is non-toxic and appropriate for their dietary needs.\n",
            "Ground Truth: Some human foods are safe in moderation (like plain cooked chicken or rice), but many are toxic — such as chocolate, grapes, onions, garlic, and xylitol. Always consult a vet before sharing human food.\n",
            "\n",
            "Q5: 0.6595\n",
            "Question: Why is my dog itching so much?\n",
            "Prediction: Based on the provided context, your dog's excessive itching could be due to allergies. These allergies could be the source of secretions that, when not regularly expressed, can become pasty and thick, leading to blockage of the normal exit. This can cause discomfort and further itching. If your dog is also licking excessively and showing signs of infection or odor, it would be advisable to consult with a veterinarian.\n",
            "Ground Truth: Common causes include fleas, allergies (environmental or food), and skin infections. A vet will perform diagnostics like skin scrapings or allergy testing to identify the cause and recommend treatment.\n",
            "\n",
            "Q6: 0.4690\n",
            "Question: Should I spay or neuter my dog?\n",
            "Prediction: The decision to spay or neuter your dog should consider several factors. Neutering, which is surgical castration, does significantly reduce the chance of certain infections and problems related to testosterone. However, recent studies suggest that the removal of 100 percent of a dog's testosterone may pose problems, depending on the breed and timing. \n",
            "\n",
            "If you have a puppy you hope to develop into a hunting, herding, or other athletic dog, you might want to consider these potential consequences. \n",
            "\n",
            "On the other hand, spaying or neutering can lower the incidence of some canine diseases, especially in dogs that are likely to interact with other dogs. \n",
            "\n",
            "Given these variables, it's important to consult with your veterinarian. They can provide the most reliable advice and help design an appropriate vaccination program for your dog's specific needs.\n",
            "Ground Truth: Yes, unless you plan to breed responsibly. Spaying/neutering helps prevent reproductive cancers, reduces behavioral issues, and lowers overpopulation risks. Timing depends on breed and age — typically between 6–12 months.\n",
            "\n",
            "Q7: 0.8693\n",
            "Question: Why is my dog eating grass?\n",
            "Prediction: Dogs may eat grass as a natural emetic to stimulate vomiting when they feel unwell, or they might simply enjoy its flavor or texture. There is also speculation that grass grazing may provide trace elements of vitamins. Occasional grass eating is usually not a cause for concern, but if it becomes a habit, especially if grass eating prompts vomiting more than two days in a row, your dog should be examined by a veterinarian to rule out a health problem.\n",
            "Ground Truth: Occasional grass-eating is normal and not necessarily harmful. Some dogs do it out of boredom or to induce vomiting. Frequent grass consumption or vomiting should be evaluated by a vet.\n",
            "\n",
            "Q8: 0.8347\n",
            "Question: How do I clean my dog’s ears safely?\n",
            "Prediction: According to the provided context, to clean your dog's ears safely, you should use a 50/50 vinegar and water solution or commercial ear cleaning solution on a cotton ball, soft cloth, or cotton swab. Gently wipe only the visible portions of the ear, avoiding dripping cleaner or inserting any instrument into the ear canal unless instructed by your veterinarian. For breeds like Cocker Spaniels with pendulous ears, a weekly cleaning with a drying agent can help improve aeration and drainage. It's also important to keep the ears dry and clean, and to inspect for debris after outdoor activities.\n",
            "Ground Truth: Use a vet-approved ear cleaner. Gently fill the ear canal, massage the base, and wipe debris with gauze or cotton (never insert Q-tips). Do not clean ears unless recommended by your vet, especially if infected.\n",
            "\n",
            "Q9: 0.7460\n",
            "Question: Is bad breath in dogs normal?\n",
            "Prediction: Based on the provided context, bad breath in dogs is not normal. It's often a sign of an underlying health issue, similar to dental problems that people can experience. The earliest sign of gum and tooth infections in dogs is bad breath, also known as halitosis.\n",
            "Ground Truth: No — persistent bad breath may indicate dental disease, infections, or systemic issues like kidney disease. Routine dental care and veterinary cleanings are crucial for overall health.\n",
            "\n",
            "Q10: 0.6369\n",
            "Question: How do I know if my dog has worms?\n",
            "Prediction: Your dog may have worms if you notice signs such as a dull coat, diarrhea (which could be watery or contain blood or mucus), or if you see spaghetti-like masses in the stool or vomit. Additionally, if your dog has worms in the lungs, it may cough. Confirmation of roundworms can be made by your veterinarian through a stool sample examination, where the presence of eggs indicates adult worms in the intestines.\n",
            "Ground Truth: Symptoms may include visible worms in stool, scooting, vomiting, weight loss, or a bloated abdomen. A fecal exam by your vet will confirm the type of parasite and proper deworming treatment.\n",
            "\n",
            "\n",
            "✅ Average Embedding Similarity: 0.6973\n"
          ]
        }
      ],
      "source": [
        "import json\n",
        "from tqdm import tqdm\n",
        "from sentence_transformers import SentenceTransformer, util\n",
        "import numpy as np\n",
        "import re\n",
        "\n",
        "# === Load data from JSON ===\n",
        "with open(\"/content/dog_faqs_vet_answers.json\", \"r\", encoding=\"utf-8\") as f:\n",
        "    eval_data = json.load(f)\n",
        "\n",
        "# === Load embedding model ===\n",
        "model = SentenceTransformer(\"sentence-transformers/paraphrase-multilingual-MiniLM-L12-v2\")\n",
        "\n",
        "# === Filtered lists ===\n",
        "filtered_questions = []\n",
        "filtered_ground_truths = []\n",
        "predictions = []\n",
        "\n",
        "# === Generate predictions and filter NA ===\n",
        "for item in tqdm(eval_data, desc=\"Generating predictions\"):\n",
        "    q = item[\"question\"]\n",
        "    gt = item[\"answer\"]\n",
        "\n",
        "    answer = chain.invoke(q).strip()\n",
        "\n",
        "    filtered_questions.append(q)\n",
        "    filtered_ground_truths.append(gt)\n",
        "    predictions.append(answer)\n",
        "\n",
        "# === Encode both predictions and ground truths ===\n",
        "pred_embs = model.encode(predictions, convert_to_tensor=True)\n",
        "gt_embs = model.encode(filtered_ground_truths, convert_to_tensor=True)\n",
        "\n",
        "# === Compute cosine similarity ===\n",
        "cos_sim = util.cos_sim(pred_embs, gt_embs)\n",
        "scores = cos_sim.diag().cpu().numpy()\n",
        "\n",
        "# === Print results ===\n",
        "print(\"\\n🔍 Embedding Similarity per QA Pair:\")\n",
        "for i, score in enumerate(scores):\n",
        "    print(f\"Q{i+1}: {score:.4f}\")\n",
        "    print(f\"Question: {filtered_questions[i]}\")\n",
        "    print(f\"Prediction: {predictions[i]}\")\n",
        "    print(f\"Ground Truth: {filtered_ground_truths[i]}\")\n",
        "    print()\n",
        "\n",
        "print(f\"\\n✅ Average Embedding Similarity: {np.mean(scores):.4f}\")"
      ]
    },
    {
      "cell_type": "markdown",
      "metadata": {
        "id": "54f4ivorI5Qb"
      },
      "source": [
        "#Agentic RAG"
      ]
    },
    {
      "cell_type": "code",
      "execution_count": 23,
      "metadata": {
        "id": "ETu6m0J3I7zK"
      },
      "outputs": [],
      "source": [
        "import os\n",
        "from langchain.vectorstores.base import VectorStore\n",
        "from langchain.schema import StrOutputParser\n",
        "from langchain.schema.runnable import RunnablePassthrough, RunnableLambda\n",
        "from langchain.prompts.chat import ChatPromptTemplate\n",
        "from langchain.chat_models import ChatOpenAI\n",
        "from google.colab import userdata\n",
        "\n",
        "from langchain.tools import tool\n",
        "from langchain_community.tools.tavily_search import TavilySearchResults\n",
        "from crewai import Agent, Task, Crew\n",
        "\n",
        "\n",
        "os.environ[\"OPENAI_API_KEY\"] = userdata.get('open_router')\n",
        "\n",
        "retriever = vectorstore.as_retriever(search_kwargs={\"k\": 3})\n",
        "\n",
        "llm = ChatOpenAI(\n",
        "    base_url=\"https://openrouter.ai/api/v1\",\n",
        "    api_key=os.environ[\"OPENAI_API_KEY\"],\n",
        "    model=\"mistralai/mixtral-8x7b-instruct\",\n",
        "    temperature=0\n",
        ")\n",
        "\n",
        "def build_prompt(kwargs):\n",
        "    docs = kwargs['context']\n",
        "    question = kwargs['question']\n",
        "    context = \"\\n\\n\".join(str(doc) for doc in docs)\n",
        "\n",
        "    prompt = ChatPromptTemplate.from_template(\n",
        "        \"\"\"You are a professional and experienced veterinarian. Using only the information provided in the context below, answer the question as accurately and clearly as possible.\n",
        "\n",
        "- Do not introduce external information.\n",
        "- Do not make assumptions beyond what the context supports.\n",
        "- Keep your answer concise and medically relevant.\n",
        "\n",
        "Context:\n",
        "{context}\n",
        "\n",
        "Question:\n",
        "{question}\n",
        "\n",
        "Answer:\"\"\"\n",
        "    )\n",
        "    return prompt.format(context=context, question=question)\n",
        "\n",
        "# --- RAG tool ---\n",
        "def run_rag_chain(question):\n",
        "    chain = (\n",
        "        {\n",
        "            \"context\": retriever,\n",
        "            \"question\": RunnablePassthrough()\n",
        "        }\n",
        "        | RunnableLambda(build_prompt)\n",
        "        | llm\n",
        "        | StrOutputParser()\n",
        "    )\n",
        "    return chain.invoke(question)\n",
        "\n"
      ]
    },
    {
      "cell_type": "markdown",
      "metadata": {
        "id": "mt71YjHONAkO"
      },
      "source": [
        "web search"
      ]
    },
    {
      "cell_type": "code",
      "execution_count": 24,
      "metadata": {
        "id": "K4ABUGH8Mvza",
        "colab": {
          "base_uri": "https://localhost:8080/"
        },
        "outputId": "4ad115b1-c9a7-47cf-9661-0a7b79605256"
      },
      "outputs": [
        {
          "output_type": "stream",
          "name": "stderr",
          "text": [
            "/tmp/ipython-input-1594566303.py:3: LangChainDeprecationWarning: The class `TavilySearchResults` was deprecated in LangChain 0.3.25 and will be removed in 1.0. An updated version of the class exists in the :class:`~langchain-tavily package and should be used instead. To use it run `pip install -U :class:`~langchain-tavily` and import as `from :class:`~langchain_tavily import TavilySearch``.\n",
            "  tavily_search = TavilySearchResults(api_key=os.environ[\"TAVILY_API_KEY\"])\n"
          ]
        }
      ],
      "source": [
        "os.environ[\"TAVILY_API_KEY\"] = userdata.get('tavily')\n",
        "\n",
        "tavily_search = TavilySearchResults(api_key=os.environ[\"TAVILY_API_KEY\"])\n",
        "\n",
        "def run_web_search(question):\n",
        "    results = tavily_search.run(question)\n",
        "\n",
        "    return f\"Web search results:\\n{results}\""
      ]
    },
    {
      "cell_type": "code",
      "execution_count": 26,
      "metadata": {
        "id": "UDJHZ_W1NVTT"
      },
      "outputs": [],
      "source": [
        "from langchain.tools import Tool\n",
        "\n",
        "rag_tool = Tool(\n",
        "    name=\"InternalRAG\",\n",
        "    func=run_rag_chain,\n",
        "    description=\"Use this tool to answer veterinary-medical questions when provided background context is sufficient.\"\n",
        ")\n",
        "web_tool = Tool(\n",
        "    name=\"WebSearch\",\n",
        "    func=run_web_search,\n",
        "    description=\"Use this tool for recent, novel, or general questions where the internal context doesn't suffice.\"\n",
        ")\n",
        "\n",
        "tools = [rag_tool, web_tool]"
      ]
    },
    {
      "cell_type": "code",
      "source": [
        "system_message = \"\"\"\n",
        "You are a veterinary assistant agent. Your task is to pick the best approach for each question:\n",
        "- If the question can be answered from the internal veterinary knowledge base, use 'InternalRAG'.\n",
        "- If the question is about recent developments, news, or if the internal context seems insufficient, use 'WebSearch' to search online.\n",
        "Think step by step, then act.\n",
        "\"\"\""
      ],
      "metadata": {
        "id": "WG0ZS2zQRMVi"
      },
      "execution_count": 27,
      "outputs": []
    },
    {
      "cell_type": "code",
      "source": [
        "from langchain.agents import initialize_agent, AgentType\n",
        "\n",
        "agent = initialize_agent(\n",
        "    tools,\n",
        "    llm,\n",
        "    agent=AgentType.ZERO_SHOT_REACT_DESCRIPTION,\n",
        "    verbose=True,\n",
        "    agent_kwargs={'system_message': system_message}\n",
        ")"
      ],
      "metadata": {
        "colab": {
          "base_uri": "https://localhost:8080/"
        },
        "id": "a4ItHNjHWIOT",
        "outputId": "93cfb116-7793-48e2-b0fa-5c38c8917dd3"
      },
      "execution_count": 29,
      "outputs": [
        {
          "output_type": "stream",
          "name": "stderr",
          "text": [
            "/tmp/ipython-input-1746318073.py:3: LangChainDeprecationWarning: LangChain agents will continue to be supported, but it is recommended for new use cases to be built with LangGraph. LangGraph offers a more flexible and full-featured framework for building agents, including support for tool-calling, persistence of state, and human-in-the-loop workflows. For details, refer to the `LangGraph documentation <https://langchain-ai.github.io/langgraph/>`_ as well as guides for `Migrating from AgentExecutor <https://python.langchain.com/docs/how_to/migrate_agent/>`_ and LangGraph's `Pre-built ReAct agent <https://langchain-ai.github.io/langgraph/how-tos/create-react-agent/>`_.\n",
            "  agent = initialize_agent(\n"
          ]
        }
      ]
    },
    {
      "cell_type": "code",
      "source": [
        "question = input(\"Ask your veterinary question: \")\n",
        "answer = agent.run(question)\n",
        "print(\"\\nAnswer:\\n\", answer)"
      ],
      "metadata": {
        "colab": {
          "base_uri": "https://localhost:8080/"
        },
        "id": "JHLUKPueWMyM",
        "outputId": "1d1229fa-b1e0-4cf8-8992-ca124b0c29ad"
      },
      "execution_count": 32,
      "outputs": [
        {
          "output_type": "stream",
          "name": "stdout",
          "text": [
            "Ask your veterinary question: Why is my dog itching so much?\n",
            "\n",
            "\n",
            "\u001b[1m> Entering new AgentExecutor chain...\u001b[0m\n",
            "\u001b[32;1m\u001b[1;3m The dog's excessive itching could be due to various reasons such as parasites, allergies, or skin conditions. I need more context about the dog's medical history to provide a precise answer.\n",
            "\n",
            "Action: InternalRAG\n",
            "Action Input: Why is my dog itching so much? The dog is a 5-year-old mixed breed with no known allergies or medical conditions.\u001b[0m"
          ]
        },
        {
          "output_type": "stream",
          "name": "stderr",
          "text": [
            "/usr/local/lib/python3.11/dist-packages/torch/nn/modules/module.py:1750: FutureWarning: `encoder_attention_mask` is deprecated and will be removed in version 4.55.0 for `BertSdpaSelfAttention.forward`.\n",
            "  return forward_call(*args, **kwargs)\n"
          ]
        },
        {
          "output_type": "stream",
          "name": "stdout",
          "text": [
            "\n",
            "Observation: \u001b[36;1m\u001b[1;3m Based on the provided context, intense all-over itchiness in dogs can be a symptom of a food allergy, especially in dogs that are two years old or older. However, your dog is a 5-year-old mixed breed with no known allergies or medical conditions. Therefore, the itchiness could be due to a variety of factors and not necessarily a food allergy. It would be best to consult with your veterinarian to identify the cause and appropriate treatment.\u001b[0m\n",
            "Thought:\u001b[32;1m\u001b[1;3m I now know that the dog's excessive itching could be due to various reasons such as parasites, allergies, or skin conditions, and it is necessary to consult with a veterinarian for a proper diagnosis and treatment.\n",
            "Final Answer: Your dog's excessive itching could be due to various reasons such as parasites, allergies, or skin conditions. It would be best to consult with your veterinarian to identify the cause and appropriate treatment.\u001b[0m\n",
            "\n",
            "\u001b[1m> Finished chain.\u001b[0m\n",
            "\n",
            "Answer:\n",
            " Your dog's excessive itching could be due to various reasons such as parasites, allergies, or skin conditions. It would be best to consult with your veterinarian to identify the cause and appropriate treatment.\n"
          ]
        }
      ]
    },
    {
      "cell_type": "code",
      "source": [
        "question = input(\"Ask your veterinary question: \")\n",
        "answer = agent.run(question)\n",
        "print(\"\\nAnswer:\\n\", answer)\n"
      ],
      "metadata": {
        "colab": {
          "base_uri": "https://localhost:8080/"
        },
        "id": "-jwY4eB2WX2_",
        "outputId": "4751b11f-8daa-4993-b9ee-99d0f2cc6dae"
      },
      "execution_count": 38,
      "outputs": [
        {
          "output_type": "stream",
          "name": "stdout",
          "text": [
            "Ask your veterinary question:  Can dogs eat human food?\n",
            "\n",
            "\n",
            "\u001b[1m> Entering new AgentExecutor chain...\u001b[0m\n",
            "\u001b[32;1m\u001b[1;3m This is a general question about dogs' diet, which the internal context might not have sufficient information. I should use the web search tool to find a more accurate answer.\n",
            "\n",
            "Action: WebSearch\n",
            "Action Input: \"Can dogs eat human food?\"\u001b[0m\n",
            "Observation: \u001b[33;1m\u001b[1;3mWeb search results:\n",
            "[{'title': 'Human Foods Dogs Can Eat: Complete List', 'url': 'https://thevets.com/resources/pet-nutrition/human-food-dogs-can-eat/', 'content': '## Frequently Asked Questions\\n\\n### Can dogs eat human food?\\n\\nYes, they can but only in moderation. Stick to safe human foods such as lean turkey and chicken (with no bones), carrots, broccoli, and blueberries.\\n\\n### What vegetables can dogs eat?\\n\\nDogs can eat carrots, broccoli, green beans, sweet potato, celery, and beets.\\n\\n### What is the best human food for dogs?\\n\\nVegetables such as carrots and broccoli are safe to eat along with boiled chicken and white rice which can help upset tummies. [...] It’s tempting to give dogs human snacks or a piece of meat, but is it safe? Can dogs eat human food? The short answer is yes, they can, but they can’t eat ALL human foods.\\n\\nCertain human foods can be harmful to our dogs, potentially even leading to poisoning and toxicity, which could be fatal. We’ll now discuss the human foods that dogs can eat and advise you on what foods you should avoid feeding your pooch.\\n\\n## What Human Foods Can Dogs Eat? [...] In conclusion, dogs can enjoy human food along with us but there are certain foods that are harmful to them. Sticking to lean meats without bones or skin, vegetables like carrots and broccoli, and fruit such as bananas and blueberries are safe to feed in moderation. Avoid foods such as grapes, raisins, cherries, avocados, caffeine, and foods that have harmful additives. Human foods should be fed in moderation to prevent obesity and you should consult with your vet if your pet has an underlying', 'score': 0.9405774}, {'title': 'Can My Dog Eat This? A List of Human Foods ...', 'url': 'https://www.healthline.com/nutrition/human-foods-for-dogs', 'content': \"#### Nutrition\\n\\n#### Nutrition\\n\\n# Can My Dog Eat This? A List of Human Foods Dogs Can and Can't Eat\\n\\nCertain human foods, like carrots and blueberries, can be safe for most dogs. But others, like garlic and onions, can be toxic.\\n\\nDogs and humans metabolize foods differently.\\n\\nFor this reason, some foods are safe for humans to eat but may be toxic and potentially deadly for dogs. [...] On the other hand, there are many human foods that are perfectly safe and even healthy for dogs to eat as an occasional treat.\\n\\nThis article gives an overview of 53 foods and whether or not your dog can eat them.\\n\\n## 1. Carrots: Can Eat\\n\\nBoth raw and cooked carrots are safe for your dog to eat.\\n\\nCarrots are low in calories and a good source of vitamins, minerals and fiber. This makes them a very healthy food for your dog to snack on (1). [...] ## 41. Rice: Can Eat\\n\\nDogs can eat plain and cooked brown or white rice.\\n\\nRice is very easy for dogs to digest and may help relieve an upset stomach.\\n\\nYou can feed rice to your dog on its own or combined with a little bit of chicken or turkey for extra protein.\\n\\n## 42. Beef: Can Eat\\n\\nLean beef is safe for dogs to eat.\\n\\nIn fact, beef is a common ingredient in many dog foods. It’s an excellent source of protein and many important vitamins and minerals that your dog needs for overall health (48).\", 'score': 0.8783249}, {'title': '7 Human Foods That Can Be Fatal to Dogs - Healthline', 'url': 'https://www.healthline.com/nutrition/7-foods-fatal-to-dogs', 'content': \"#### Nutrition\\n\\n# 7 Human Foods That Can Be Fatal to Dogs\\n\\nCertain foods that are safe for humans can be harmful to dogs.\\n\\nBecause dogs have a different metabolism than people, feeding human foods to dogs can be very dangerous for their health and may even be fatal in some cases.\\n\\nThis article reviews seven food items that have been proven toxic to dogs. If you have a dog, it’s important to keep these foods out of their reach.\\n\\nDog with owner header\\n\\n## 1. Avocados [...] Share this article\\n\\n### Read this next\\n\\nDogs and humans metabolize foods differently, making some human foods toxic to dogs. Here's a list of 53 foods and whether or not your dog can eat…\\n\\nResearchers say having a dog in the same room or same bed probably won't hurt your sleep quantity, but it could affect your ''sleep efficiency.''\\n\\nNew research shows our furry friends feel our stress, giving us a window into our own health — and possibly impacting theirs as well. Here's what to… [...] ## 5. Alcohol and yeast dough\\n\\nAlcohol is found in a variety of products, including alcoholic beverages, perfumes, mouthwash, paint, varnish, and various cleaning products.\\n\\nWhile occasional alcohol consumption is safe for humans, dogs cannot tolerate it, even in small amounts.\\n\\nSymptoms usually develop within an hour after consumption and include tiredness, depression, lack of muscle coordination, low body temperature, poor breathing, vomiting, and diarrhea.\", 'score': 0.81595254}, {'title': \"Why Dogs Should NOT Eat 'People Food' - PetMD\", 'url': 'https://www.petmd.com/news/view/why-dogs-should-not-eat-people-food-34758', 'content': 'Dogs, like children, will realize that if they do X (whine, cry, beg), human will do Y (feed me, drop food, etc.). Breaking this behavior can be extremely difficult and time consuming; it is best to never start it in the first place.\\n\\n## Health problems:\\n\\nNot only are we setting up our pets to behave badly, we are introducing the possibility of eating toxic foods, as well as an increase in daily calories. [...] Generally, the dogs I see at the veterinary office, or the dogs I pet-sit for, that eat only dog food tend to have better body condition scores and are at a more appropriate weight for their size, age, and/or breed. Dogs that are kept at an optimum weight are less likely to have joint, bone, ligament, or mobility issues, and are less likely to develop heart disease, breathing issues, decreased liver function, and many other health problems. Just like humans, maintaining a healthy weight helps [...] Dogs that are not fed people food are less likely to eat toxic foods. While I do not have any scientific evidence, I base this on the more than a decade of veterinary expertise and first-hand experience.', 'score': 0.798643}, {'title': \"People Food Dogs Can Eat and Can't Eat\", 'url': 'https://www.akc.org/expert-advice/nutrition/human-foods-dogs-can-and-cant-eat/', 'content': 'Dedicated dog lovers tend to be very kind people. We share our hearts and homes (and for some lucky pups, even the foot of our beds) with our canine pals. Surely there is nothing wrong with sharing our favorite people foods with our dogs too, right? Not necessarily. Many of the foods, such as fruits and vegetables, that people digest just fine can wreak havoc on a dog’s body, causing severe health problems. On the other hand, some of the foods people eat can be introduced to a dog’s diet just [...] But before giving your dog foods that you crave, read on and learn which foods are safe, and which can send your dog straight to the emergency vet. And always be mindful that even healthy foods fed in excess can lead to canine obesity, a major health concern for U.S. dogs. Always choose a quality dog food as your dog’s main diet.\\n\\n## Human Food Safety for Dogs [...] # People Foods Dogs Can and Can’t Eat\\n\\nAKC is a participant in affiliate advertising programs designed to provide a means for sites to earn advertising fees by advertising and linking to akc.org. If you purchase a product through this article, we may receive a portion of the sale.', 'score': 0.78866494}]\u001b[0m\n",
            "Thought:\u001b[32;1m\u001b[1;3m Based on the web search results, it seems that dogs can eat some human food, but not all. Some human foods are safe for dogs, like lean meats, vegetables such as carrots and broccoli, and fruits such as bananas and blueberries. However, some human foods can be harmful to dogs, potentially even leading to poisoning and toxicity.\n",
            "\n",
            "Final Answer: Yes, dogs can eat human food, but only certain types and in moderation. It's important to avoid foods that are harmful to them, such as grapes, raisins, cherries, avocados, caffeine, and foods with harmful additives.\u001b[0m\n",
            "\n",
            "\u001b[1m> Finished chain.\u001b[0m\n",
            "\n",
            "Answer:\n",
            " Yes, dogs can eat human food, but only certain types and in moderation. It's important to avoid foods that are harmful to them, such as grapes, raisins, cherries, avocados, caffeine, and foods with harmful additives.\n"
          ]
        }
      ]
    },
    {
      "cell_type": "code",
      "source": [],
      "metadata": {
        "id": "3XgVS6M8XJys"
      },
      "execution_count": null,
      "outputs": []
    }
  ],
  "metadata": {
    "accelerator": "GPU",
    "colab": {
      "gpuType": "T4",
      "provenance": []
    },
    "kernelspec": {
      "display_name": "Python 3",
      "name": "python3"
    },
    "language_info": {
      "name": "python"
    }
  },
  "nbformat": 4,
  "nbformat_minor": 0
}